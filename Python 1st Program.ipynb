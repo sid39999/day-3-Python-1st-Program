{
 "cells": [
  {
   "cell_type": "markdown",
   "id": "0fa5ba0c",
   "metadata": {},
   "source": [
    "# Basic command and our 1st Program"
   ]
  },
  {
   "cell_type": "markdown",
   "id": "8164924c",
   "metadata": {},
   "source": [
    "# Print()"
   ]
  },
  {
   "cell_type": "code",
   "execution_count": 2,
   "id": "ddf7d29a",
   "metadata": {},
   "outputs": [
    {
     "name": "stdout",
     "output_type": "stream",
     "text": [
      "Hello world\n"
     ]
    }
   ],
   "source": [
    "print(\"Hello world\")"
   ]
  },
  {
   "cell_type": "code",
   "execution_count": 4,
   "id": "885c21ab",
   "metadata": {},
   "outputs": [
    {
     "name": "stdout",
     "output_type": "stream",
     "text": [
      "hello world\n"
     ]
    }
   ],
   "source": [
    "print('hello world')"
   ]
  },
  {
   "cell_type": "code",
   "execution_count": 5,
   "id": "1226d82f",
   "metadata": {},
   "outputs": [
    {
     "name": "stdout",
     "output_type": "stream",
     "text": [
      "23445\n"
     ]
    }
   ],
   "source": [
    "print(23445)"
   ]
  },
  {
   "cell_type": "code",
   "execution_count": 6,
   "id": "74b6988b",
   "metadata": {},
   "outputs": [
    {
     "name": "stdout",
     "output_type": "stream",
     "text": [
      "2345\n"
     ]
    }
   ],
   "source": [
    "print('2345')"
   ]
  },
  {
   "cell_type": "code",
   "execution_count": 7,
   "id": "765509a3",
   "metadata": {},
   "outputs": [
    {
     "name": "stdout",
     "output_type": "stream",
     "text": [
      "6\n"
     ]
    }
   ],
   "source": [
    "print(2*3)"
   ]
  },
  {
   "cell_type": "code",
   "execution_count": 8,
   "id": "e3adeef4",
   "metadata": {},
   "outputs": [
    {
     "name": "stdout",
     "output_type": "stream",
     "text": [
      "4.8\n"
     ]
    }
   ],
   "source": [
    "print(2.3+2.5)"
   ]
  },
  {
   "cell_type": "code",
   "execution_count": 9,
   "id": "fc06cad8",
   "metadata": {},
   "outputs": [
    {
     "name": "stdout",
     "output_type": "stream",
     "text": [
      "hello welcome to day 3\n"
     ]
    }
   ],
   "source": [
    "print('hello welcome to day 3')"
   ]
  },
  {
   "cell_type": "code",
   "execution_count": 10,
   "id": "72c7adaf",
   "metadata": {},
   "outputs": [
    {
     "name": "stdout",
     "output_type": "stream",
     "text": [
      "2*3\n"
     ]
    }
   ],
   "source": [
    "print(\"2*3\")"
   ]
  },
  {
   "cell_type": "code",
   "execution_count": 11,
   "id": "ef24e156",
   "metadata": {},
   "outputs": [
    {
     "name": "stdout",
     "output_type": "stream",
     "text": [
      "print()\n"
     ]
    }
   ],
   "source": [
    "print('print()')"
   ]
  },
  {
   "cell_type": "code",
   "execution_count": null,
   "id": "6a173b3c",
   "metadata": {},
   "outputs": [],
   "source": []
  }
 ],
 "metadata": {
  "kernelspec": {
   "display_name": "Python 3 (ipykernel)",
   "language": "python",
   "name": "python3"
  },
  "language_info": {
   "codemirror_mode": {
    "name": "ipython",
    "version": 3
   },
   "file_extension": ".py",
   "mimetype": "text/x-python",
   "name": "python",
   "nbconvert_exporter": "python",
   "pygments_lexer": "ipython3",
   "version": "3.11.5"
  }
 },
 "nbformat": 4,
 "nbformat_minor": 5
}
